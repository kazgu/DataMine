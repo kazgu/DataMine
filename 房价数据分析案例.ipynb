{
 "cells": [
  {
   "cell_type": "code",
   "execution_count": 1,
   "id": "c8efae75",
   "metadata": {},
   "outputs": [],
   "source": [
    "import matplotlib as plt\n",
    "import pandas as pd"
   ]
  },
  {
   "cell_type": "code",
   "execution_count": 2,
   "id": "6af9dfdc",
   "metadata": {},
   "outputs": [],
   "source": [
    "df=pd.read_csv('house_data.csv')"
   ]
  },
  {
   "cell_type": "code",
   "execution_count": 3,
   "id": "8b727eb7",
   "metadata": {},
   "outputs": [
    {
     "data": {
      "text/html": [
       "<div>\n",
       "<style scoped>\n",
       "    .dataframe tbody tr th:only-of-type {\n",
       "        vertical-align: middle;\n",
       "    }\n",
       "\n",
       "    .dataframe tbody tr th {\n",
       "        vertical-align: top;\n",
       "    }\n",
       "\n",
       "    .dataframe thead th {\n",
       "        text-align: right;\n",
       "    }\n",
       "</style>\n",
       "<table border=\"1\" class=\"dataframe\">\n",
       "  <thead>\n",
       "    <tr style=\"text-align: right;\">\n",
       "      <th></th>\n",
       "      <th>title</th>\n",
       "      <th>img</th>\n",
       "      <th>huxing</th>\n",
       "      <th>daxiao</th>\n",
       "      <th>fangxiang</th>\n",
       "      <th>ceng</th>\n",
       "      <th>jianzao</th>\n",
       "      <th>xiaoqu</th>\n",
       "      <th>qu</th>\n",
       "      <th>lu</th>\n",
       "      <th>dizhi</th>\n",
       "      <th>tese</th>\n",
       "      <th>total_price</th>\n",
       "      <th>avg_price</th>\n",
       "    </tr>\n",
       "  </thead>\n",
       "  <tbody>\n",
       "    <tr>\n",
       "      <th>0</th>\n",
       "      <td>3室2厅 蓝调一品(B区) 南北通透 精装修 采光好 周边商</td>\n",
       "      <td>https://pages.anjukestatic.com/usersite/site/i...</td>\n",
       "      <td>3 室 2 厅 1 卫</td>\n",
       "      <td>116.3㎡</td>\n",
       "      <td>南北</td>\n",
       "      <td>高层(共6层)</td>\n",
       "      <td>2008年建造</td>\n",
       "      <td>蓝调一品(B区)</td>\n",
       "      <td>新市</td>\n",
       "      <td>长春路</td>\n",
       "      <td>长春南路东三巷355号</td>\n",
       "      <td>配套成熟,繁华地段,交通便利</td>\n",
       "      <td>90.26</td>\n",
       "      <td>7759元/㎡</td>\n",
       "    </tr>\n",
       "    <tr>\n",
       "      <th>1</th>\n",
       "      <td>急售铁路局 大三室 铁三铁二 十八街 随时看可谈 另售十四街</td>\n",
       "      <td>https://pages.anjukestatic.com/usersite/site/i...</td>\n",
       "      <td>3 室 2 厅 1 卫</td>\n",
       "      <td>97㎡</td>\n",
       "      <td>南北</td>\n",
       "      <td>高层(共6层)</td>\n",
       "      <td>2000年建造</td>\n",
       "      <td>十八街小区</td>\n",
       "      <td>新市</td>\n",
       "      <td>铁路局</td>\n",
       "      <td>天汇路76号</td>\n",
       "      <td>品质小区,安全性高,素质住户</td>\n",
       "      <td>155.00</td>\n",
       "      <td>15980元/㎡</td>\n",
       "    </tr>\n",
       "    <tr>\n",
       "      <th>2</th>\n",
       "      <td>急售 北京路地铁口精装三室送家具家电 南北通透</td>\n",
       "      <td>https://pages.anjukestatic.com/usersite/site/i...</td>\n",
       "      <td>3 室 2 厅 1 卫</td>\n",
       "      <td>107㎡</td>\n",
       "      <td>南北</td>\n",
       "      <td>中层(共11层)</td>\n",
       "      <td>2015年建造</td>\n",
       "      <td>新天润国际社区(四期香颂)</td>\n",
       "      <td>新市</td>\n",
       "      <td>通嘉世纪城</td>\n",
       "      <td>绍兴中街</td>\n",
       "      <td>品质小区,南北通透,一梯两户</td>\n",
       "      <td>92.00</td>\n",
       "      <td>8599元/㎡</td>\n",
       "    </tr>\n",
       "    <tr>\n",
       "      <th>3</th>\n",
       "      <td>房主急售 铁路局 铁三中铁二小 十四街 全明户型 三室两厅</td>\n",
       "      <td>https://pages.anjukestatic.com/usersite/site/i...</td>\n",
       "      <td>3 室 2 厅 1 卫</td>\n",
       "      <td>88㎡</td>\n",
       "      <td>南北</td>\n",
       "      <td>高层(共6层)</td>\n",
       "      <td>1998年建造</td>\n",
       "      <td>十四街住宅小区</td>\n",
       "      <td>新市</td>\n",
       "      <td>铁路局</td>\n",
       "      <td>南纬二路125号</td>\n",
       "      <td>品质小区,配套成熟,交通便利</td>\n",
       "      <td>162.00</td>\n",
       "      <td>18410元/㎡</td>\n",
       "    </tr>\n",
       "    <tr>\n",
       "      <th>4</th>\n",
       "      <td>急售 急售 嘉华园北区 南北通透 精装修 居家自住 保养好</td>\n",
       "      <td>https://pages.anjukestatic.com/usersite/site/i...</td>\n",
       "      <td>3 室 2 厅 1 卫</td>\n",
       "      <td>115.2㎡</td>\n",
       "      <td>南北</td>\n",
       "      <td>中层(共6层)</td>\n",
       "      <td>2004年建造</td>\n",
       "      <td>嘉华园北区</td>\n",
       "      <td>新市</td>\n",
       "      <td>天津路</td>\n",
       "      <td>天津北路234号</td>\n",
       "      <td>NaN</td>\n",
       "      <td>96.00</td>\n",
       "      <td>8332元/㎡</td>\n",
       "    </tr>\n",
       "  </tbody>\n",
       "</table>\n",
       "</div>"
      ],
      "text/plain": [
       "                            title  \\\n",
       "0  3室2厅 蓝调一品(B区) 南北通透 精装修 采光好 周边商   \n",
       "1  急售铁路局 大三室 铁三铁二 十八街 随时看可谈 另售十四街   \n",
       "2         急售 北京路地铁口精装三室送家具家电 南北通透   \n",
       "3   房主急售 铁路局 铁三中铁二小 十四街 全明户型 三室两厅   \n",
       "4   急售 急售 嘉华园北区 南北通透 精装修 居家自住 保养好   \n",
       "\n",
       "                                                 img       huxing  daxiao  \\\n",
       "0  https://pages.anjukestatic.com/usersite/site/i...  3 室 2 厅 1 卫  116.3㎡   \n",
       "1  https://pages.anjukestatic.com/usersite/site/i...  3 室 2 厅 1 卫     97㎡   \n",
       "2  https://pages.anjukestatic.com/usersite/site/i...  3 室 2 厅 1 卫    107㎡   \n",
       "3  https://pages.anjukestatic.com/usersite/site/i...  3 室 2 厅 1 卫     88㎡   \n",
       "4  https://pages.anjukestatic.com/usersite/site/i...  3 室 2 厅 1 卫  115.2㎡   \n",
       "\n",
       "  fangxiang      ceng  jianzao         xiaoqu  qu     lu        dizhi  \\\n",
       "0        南北   高层(共6层)  2008年建造       蓝调一品(B区)  新市    长春路  长春南路东三巷355号   \n",
       "1        南北   高层(共6层)  2000年建造          十八街小区  新市    铁路局       天汇路76号   \n",
       "2        南北  中层(共11层)  2015年建造  新天润国际社区(四期香颂)  新市  通嘉世纪城         绍兴中街   \n",
       "3        南北   高层(共6层)  1998年建造        十四街住宅小区  新市    铁路局     南纬二路125号   \n",
       "4        南北   中层(共6层)  2004年建造          嘉华园北区  新市    天津路     天津北路234号   \n",
       "\n",
       "             tese  total_price avg_price  \n",
       "0  配套成熟,繁华地段,交通便利        90.26   7759元/㎡  \n",
       "1  品质小区,安全性高,素质住户       155.00  15980元/㎡  \n",
       "2  品质小区,南北通透,一梯两户        92.00   8599元/㎡  \n",
       "3  品质小区,配套成熟,交通便利       162.00  18410元/㎡  \n",
       "4             NaN        96.00   8332元/㎡  "
      ]
     },
     "execution_count": 3,
     "metadata": {},
     "output_type": "execute_result"
    }
   ],
   "source": [
    "df.head()"
   ]
  },
  {
   "cell_type": "code",
   "execution_count": 8,
   "id": "298ecfdc",
   "metadata": {},
   "outputs": [
    {
     "data": {
      "text/html": [
       "<div>\n",
       "<style scoped>\n",
       "    .dataframe tbody tr th:only-of-type {\n",
       "        vertical-align: middle;\n",
       "    }\n",
       "\n",
       "    .dataframe tbody tr th {\n",
       "        vertical-align: top;\n",
       "    }\n",
       "\n",
       "    .dataframe thead th {\n",
       "        text-align: right;\n",
       "    }\n",
       "</style>\n",
       "<table border=\"1\" class=\"dataframe\">\n",
       "  <thead>\n",
       "    <tr style=\"text-align: right;\">\n",
       "      <th></th>\n",
       "      <th>qu</th>\n",
       "      <th>jianzao</th>\n",
       "    </tr>\n",
       "  </thead>\n",
       "  <tbody>\n",
       "    <tr>\n",
       "      <th>0</th>\n",
       "      <td>新市</td>\n",
       "      <td>2008年建造</td>\n",
       "    </tr>\n",
       "    <tr>\n",
       "      <th>1</th>\n",
       "      <td>新市</td>\n",
       "      <td>2000年建造</td>\n",
       "    </tr>\n",
       "    <tr>\n",
       "      <th>2</th>\n",
       "      <td>新市</td>\n",
       "      <td>2015年建造</td>\n",
       "    </tr>\n",
       "    <tr>\n",
       "      <th>3</th>\n",
       "      <td>新市</td>\n",
       "      <td>1998年建造</td>\n",
       "    </tr>\n",
       "    <tr>\n",
       "      <th>4</th>\n",
       "      <td>新市</td>\n",
       "      <td>2004年建造</td>\n",
       "    </tr>\n",
       "    <tr>\n",
       "      <th>...</th>\n",
       "      <td>...</td>\n",
       "      <td>...</td>\n",
       "    </tr>\n",
       "    <tr>\n",
       "      <th>2995</th>\n",
       "      <td>新市</td>\n",
       "      <td>2009年建造</td>\n",
       "    </tr>\n",
       "    <tr>\n",
       "      <th>2996</th>\n",
       "      <td>沙依巴克</td>\n",
       "      <td>2000年建造</td>\n",
       "    </tr>\n",
       "    <tr>\n",
       "      <th>2997</th>\n",
       "      <td>沙依巴克</td>\n",
       "      <td>2004年建造</td>\n",
       "    </tr>\n",
       "    <tr>\n",
       "      <th>2998</th>\n",
       "      <td>沙依巴克</td>\n",
       "      <td>2012年建造</td>\n",
       "    </tr>\n",
       "    <tr>\n",
       "      <th>2999</th>\n",
       "      <td>沙依巴克</td>\n",
       "      <td>2003年建造</td>\n",
       "    </tr>\n",
       "  </tbody>\n",
       "</table>\n",
       "<p>3000 rows × 2 columns</p>\n",
       "</div>"
      ],
      "text/plain": [
       "        qu  jianzao\n",
       "0       新市  2008年建造\n",
       "1       新市  2000年建造\n",
       "2       新市  2015年建造\n",
       "3       新市  1998年建造\n",
       "4       新市  2004年建造\n",
       "...    ...      ...\n",
       "2995    新市  2009年建造\n",
       "2996  沙依巴克  2000年建造\n",
       "2997  沙依巴克  2004年建造\n",
       "2998  沙依巴克  2012年建造\n",
       "2999  沙依巴克  2003年建造\n",
       "\n",
       "[3000 rows x 2 columns]"
      ]
     },
     "execution_count": 8,
     "metadata": {},
     "output_type": "execute_result"
    }
   ],
   "source": [
    "df[['qu','jianzao']]"
   ]
  },
  {
   "cell_type": "code",
   "execution_count": null,
   "id": "02e8825e",
   "metadata": {},
   "outputs": [],
   "source": [
    "# 数据处理\n",
    "\n",
    "df['avg_price']=df['avg_price'].apply(lambda x: int(x.replace('元/㎡','')))\n"
   ]
  },
  {
   "cell_type": "code",
   "execution_count": 11,
   "id": "3561a504",
   "metadata": {},
   "outputs": [],
   "source": [
    "# 对重要属性列统计分析"
   ]
  },
  {
   "cell_type": "code",
   "execution_count": 14,
   "id": "51a3d017",
   "metadata": {},
   "outputs": [
    {
     "data": {
      "text/plain": [
       "南北    2773\n",
       "南      115\n",
       "东西      62\n",
       "东       17\n",
       "西南      16\n",
       "东南       6\n",
       "东北       4\n",
       "北        3\n",
       "西北       2\n",
       "西        2\n",
       "Name: fangxiang, dtype: int64"
      ]
     },
     "execution_count": 14,
     "metadata": {},
     "output_type": "execute_result"
    }
   ],
   "source": [
    "df['fangxiang'].value_counts()"
   ]
  },
  {
   "cell_type": "code",
   "execution_count": 15,
   "id": "2a372770",
   "metadata": {},
   "outputs": [],
   "source": [
    "col=list(df['fangxiang'].value_counts().index)\n",
    "values=list(df['fangxiang'].value_counts())\n"
   ]
  },
  {
   "cell_type": "code",
   "execution_count": 16,
   "id": "5d473d54",
   "metadata": {},
   "outputs": [
    {
     "data": {
      "text/plain": [
       "['南北', '南', '东西', '东', '西南', '东南', '东北', '北', '西北', '西']"
      ]
     },
     "execution_count": 16,
     "metadata": {},
     "output_type": "execute_result"
    }
   ],
   "source": [
    "col"
   ]
  },
  {
   "cell_type": "code",
   "execution_count": 17,
   "id": "849c34a9",
   "metadata": {},
   "outputs": [
    {
     "data": {
      "text/plain": [
       "[2773, 115, 62, 17, 16, 6, 4, 3, 2, 2]"
      ]
     },
     "execution_count": 17,
     "metadata": {},
     "output_type": "execute_result"
    }
   ],
   "source": [
    "values"
   ]
  },
  {
   "cell_type": "code",
   "execution_count": 19,
   "id": "4a61e72f",
   "metadata": {},
   "outputs": [
    {
     "data": {
      "text/plain": [
       "<BarContainer object of 10 artists>"
      ]
     },
     "execution_count": 19,
     "metadata": {},
     "output_type": "execute_result"
    },
    {
     "data": {
      "image/png": "[encoded data removed]",
      "text/plain": [
       "<Figure size 432x288 with 1 Axes>"
      ]
     },
     "metadata": {
      "needs_background": "light"
     },
     "output_type": "display_data"
    }
   ],
   "source": [
    "import matplotlib.pyplot as plt\n",
    "plt.bar(col,values)"
   ]
  },
  {
   "cell_type": "code",
   "execution_count": 20,
   "id": "8f234b52",
   "metadata": {},
   "outputs": [],
   "source": [
    "col=list(df['jianzao'].value_counts().index)\n",
    "values=list(df['jianzao'].value_counts())"
   ]
  },
  {
   "cell_type": "code",
   "execution_count": null,
   "id": "9939d94f",
   "metadata": {},
   "outputs": [],
   "source": [
    "col,values"
   ]
  },
  {
   "cell_type": "code",
   "execution_count": null,
   "id": "d8ba1dc0",
   "metadata": {},
   "outputs": [],
   "source": [
    "col"
   ]
  },
  {
   "cell_type": "code",
   "execution_count": 23,
   "id": "e4c83fa2",
   "metadata": {},
   "outputs": [
    {
     "data": {
      "text/plain": [
       "<BarContainer object of 35 artists>"
      ]
     },
     "execution_count": 23,
     "metadata": {},
     "output_type": "execute_result"
    },
    {
     "data": {
      "image/png": "[encoded data removed]",
      "text/plain": [
       "<Figure size 432x288 with 1 Axes>"
      ]
     },
     "metadata": {
      "needs_background": "light"
     },
     "output_type": "display_data"
    }
   ],
   "source": [
    "plt.bar(col,values)"
   ]
  },
  {
   "cell_type": "code",
   "execution_count": 25,
   "id": "3d04f6c0",
   "metadata": {},
   "outputs": [],
   "source": [
    "col=list(df['qu'].value_counts().index)\n",
    "values=list(df['qu'].value_counts())"
   ]
  },
  {
   "cell_type": "code",
   "execution_count": 26,
   "id": "f4cb69c2",
   "metadata": {},
   "outputs": [
    {
     "data": {
      "text/plain": [
       "(['新市', '水磨沟', '沙依巴克', '米东', '天山', '开发区', '头屯河'],\n",
       " [1026, 617, 601, 322, 212, 192, 30])"
      ]
     },
     "execution_count": 26,
     "metadata": {},
     "output_type": "execute_result"
    }
   ],
   "source": [
    "col,values"
   ]
  },
  {
   "cell_type": "code",
   "execution_count": 27,
   "id": "1cb9afaf",
   "metadata": {},
   "outputs": [
    {
     "data": {
      "text/plain": [
       "<BarContainer object of 7 artists>"
      ]
     },
     "execution_count": 27,
     "metadata": {},
     "output_type": "execute_result"
    },
    {
     "data": {
      "image/png": "[encoded data removed]",
      "text/plain": [
       "<Figure size 432x288 with 1 Axes>"
      ]
     },
     "metadata": {
      "needs_background": "light"
     },
     "output_type": "display_data"
    }
   ],
   "source": [
    "plt.bar(col,values)"
   ]
  },
  {
   "cell_type": "code",
   "execution_count": 28,
   "id": "aa25c31b",
   "metadata": {},
   "outputs": [],
   "source": [
    "# 4.对重要属性列进行组合（groupby）分析"
   ]
  },
  {
   "cell_type": "code",
   "execution_count": 29,
   "id": "4973e4ea",
   "metadata": {},
   "outputs": [
    {
     "data": {
      "text/plain": [
       "qu\n",
       "天山      108.801415\n",
       "头屯河      52.666667\n",
       "开发区      79.538646\n",
       "新市       81.077953\n",
       "水磨沟      68.657180\n",
       "沙依巴克     67.918918\n",
       "米东       49.858043\n",
       "Name: total_price, dtype: float64"
      ]
     },
     "execution_count": 29,
     "metadata": {},
     "output_type": "execute_result"
    }
   ],
   "source": [
    "df.groupby(['qu'])['total_price'].mean()"
   ]
  },
  {
   "cell_type": "code",
   "execution_count": 30,
   "id": "b241f239",
   "metadata": {},
   "outputs": [],
   "source": [
    "# bar,plt.bar(col,values)\n"
   ]
  },
  {
   "cell_type": "code",
   "execution_count": 37,
   "id": "715f7110",
   "metadata": {},
   "outputs": [],
   "source": [
    "x=list(df.groupby(['qu'])['total_price'].mean().index)"
   ]
  },
  {
   "cell_type": "code",
   "execution_count": 38,
   "id": "f35645e7",
   "metadata": {},
   "outputs": [
    {
     "data": {
      "text/plain": [
       "['天山', '头屯河', '开发区', '新市', '水磨沟', '沙依巴克', '米东']"
      ]
     },
     "execution_count": 38,
     "metadata": {},
     "output_type": "execute_result"
    }
   ],
   "source": [
    "x"
   ]
  },
  {
   "cell_type": "code",
   "execution_count": 39,
   "id": "064644f0",
   "metadata": {},
   "outputs": [],
   "source": [
    "y=list(df.groupby(['qu'])['total_price'].mean())"
   ]
  },
  {
   "cell_type": "code",
   "execution_count": 40,
   "id": "e74f3763",
   "metadata": {},
   "outputs": [
    {
     "data": {
      "text/plain": [
       "[108.80141509433963,\n",
       " 52.666666666666664,\n",
       " 79.53864583333333,\n",
       " 81.07795321637427,\n",
       " 68.65717990275527,\n",
       " 67.91891846921797,\n",
       " 49.85804347826087]"
      ]
     },
     "execution_count": 40,
     "metadata": {},
     "output_type": "execute_result"
    }
   ],
   "source": [
    "y"
   ]
  },
  {
   "cell_type": "code",
   "execution_count": 41,
   "id": "1d9d71f9",
   "metadata": {},
   "outputs": [
    {
     "data": {
      "text/plain": [
       "<BarContainer object of 7 artists>"
      ]
     },
     "execution_count": 41,
     "metadata": {},
     "output_type": "execute_result"
    },
    {
     "data": {
      "image/png": "[encoded data removed]",
      "text/plain": [
       "<Figure size 432x288 with 1 Axes>"
      ]
     },
     "metadata": {
      "needs_background": "light"
     },
     "output_type": "display_data"
    }
   ],
   "source": [
    "plt.bar(x,y)"
   ]
  },
  {
   "cell_type": "code",
   "execution_count": 42,
   "id": "5ced5c66",
   "metadata": {},
   "outputs": [],
   "source": [
    "x=list(df.groupby(['qu'])['avg_price'].mean().index)"
   ]
  },
  {
   "cell_type": "code",
   "execution_count": 43,
   "id": "6b77a930",
   "metadata": {},
   "outputs": [
    {
     "data": {
      "text/plain": [
       "['天山', '头屯河', '开发区', '新市', '水磨沟', '沙依巴克', '米东']"
      ]
     },
     "execution_count": 43,
     "metadata": {},
     "output_type": "execute_result"
    }
   ],
   "source": [
    "x"
   ]
  },
  {
   "cell_type": "code",
   "execution_count": 44,
   "id": "a36959f1",
   "metadata": {},
   "outputs": [],
   "source": [
    "y=list(df.groupby(['qu'])['avg_price'].mean())"
   ]
  },
  {
   "cell_type": "code",
   "execution_count": 45,
   "id": "9c731335",
   "metadata": {},
   "outputs": [
    {
     "data": {
      "text/plain": [
       "[12770.36320754717,\n",
       " 5833.1,\n",
       " 8732.046875,\n",
       " 9030.940545808968,\n",
       " 7610.737439222042,\n",
       " 7761.427620632279,\n",
       " 5698.133540372671]"
      ]
     },
     "execution_count": 45,
     "metadata": {},
     "output_type": "execute_result"
    }
   ],
   "source": [
    "y"
   ]
  },
  {
   "cell_type": "code",
   "execution_count": 46,
   "id": "628e8c28",
   "metadata": {},
   "outputs": [
    {
     "data": {
      "text/plain": [
       "<BarContainer object of 7 artists>"
      ]
     },
     "execution_count": 46,
     "metadata": {},
     "output_type": "execute_result"
    },
    {
     "data": {
      "image/png": "[encoded data removed]",
      "text/plain": [
       "<Figure size 432x288 with 1 Axes>"
      ]
     },
     "metadata": {
      "needs_background": "light"
     },
     "output_type": "display_data"
    }
   ],
   "source": [
    "plt.bar(x,y)"
   ]
  },
  {
   "cell_type": "code",
   "execution_count": 47,
   "id": "66004df1",
   "metadata": {},
   "outputs": [
    {
     "data": {
      "text/html": [
       "<div>\n",
       "<style scoped>\n",
       "    .dataframe tbody tr th:only-of-type {\n",
       "        vertical-align: middle;\n",
       "    }\n",
       "\n",
       "    .dataframe tbody tr th {\n",
       "        vertical-align: top;\n",
       "    }\n",
       "\n",
       "    .dataframe thead tr th {\n",
       "        text-align: left;\n",
       "    }\n",
       "\n",
       "    .dataframe thead tr:last-of-type th {\n",
       "        text-align: right;\n",
       "    }\n",
       "</style>\n",
       "<table border=\"1\" class=\"dataframe\">\n",
       "  <thead>\n",
       "    <tr>\n",
       "      <th></th>\n",
       "      <th colspan=\"4\" halign=\"left\">total_price</th>\n",
       "    </tr>\n",
       "    <tr>\n",
       "      <th></th>\n",
       "      <th>mean</th>\n",
       "      <th>std</th>\n",
       "      <th>count</th>\n",
       "      <th>max</th>\n",
       "    </tr>\n",
       "    <tr>\n",
       "      <th>qu</th>\n",
       "      <th></th>\n",
       "      <th></th>\n",
       "      <th></th>\n",
       "      <th></th>\n",
       "    </tr>\n",
       "  </thead>\n",
       "  <tbody>\n",
       "    <tr>\n",
       "      <th>天山</th>\n",
       "      <td>108.801415</td>\n",
       "      <td>59.892803</td>\n",
       "      <td>212</td>\n",
       "      <td>365.0</td>\n",
       "    </tr>\n",
       "    <tr>\n",
       "      <th>头屯河</th>\n",
       "      <td>52.666667</td>\n",
       "      <td>11.268918</td>\n",
       "      <td>30</td>\n",
       "      <td>110.0</td>\n",
       "    </tr>\n",
       "    <tr>\n",
       "      <th>开发区</th>\n",
       "      <td>79.538646</td>\n",
       "      <td>24.318235</td>\n",
       "      <td>192</td>\n",
       "      <td>165.0</td>\n",
       "    </tr>\n",
       "    <tr>\n",
       "      <th>新市</th>\n",
       "      <td>81.077953</td>\n",
       "      <td>25.265979</td>\n",
       "      <td>1026</td>\n",
       "      <td>188.0</td>\n",
       "    </tr>\n",
       "    <tr>\n",
       "      <th>水磨沟</th>\n",
       "      <td>68.657180</td>\n",
       "      <td>17.146166</td>\n",
       "      <td>617</td>\n",
       "      <td>125.0</td>\n",
       "    </tr>\n",
       "    <tr>\n",
       "      <th>沙依巴克</th>\n",
       "      <td>67.918918</td>\n",
       "      <td>15.568116</td>\n",
       "      <td>601</td>\n",
       "      <td>120.0</td>\n",
       "    </tr>\n",
       "    <tr>\n",
       "      <th>米东</th>\n",
       "      <td>49.858043</td>\n",
       "      <td>6.302697</td>\n",
       "      <td>322</td>\n",
       "      <td>91.0</td>\n",
       "    </tr>\n",
       "  </tbody>\n",
       "</table>\n",
       "</div>"
      ],
      "text/plain": [
       "     total_price                        \n",
       "            mean        std count    max\n",
       "qu                                      \n",
       "天山    108.801415  59.892803   212  365.0\n",
       "头屯河    52.666667  11.268918    30  110.0\n",
       "开发区    79.538646  24.318235   192  165.0\n",
       "新市     81.077953  25.265979  1026  188.0\n",
       "水磨沟    68.657180  17.146166   617  125.0\n",
       "沙依巴克   67.918918  15.568116   601  120.0\n",
       "米东     49.858043   6.302697   322   91.0"
      ]
     },
     "execution_count": 47,
     "metadata": {},
     "output_type": "execute_result"
    }
   ],
   "source": [
    "%matplotlib inline\n",
    "df.groupby('qu').agg({\"total_price\":['mean','std','count','max']})"
   ]
  },
  {
   "cell_type": "code",
   "execution_count": 48,
   "id": "bb66be51",
   "metadata": {},
   "outputs": [
    {
     "data": {
      "text/plain": [
       "<AxesSubplot:xlabel='qu'>"
      ]
     },
     "execution_count": 48,
     "metadata": {},
     "output_type": "execute_result"
    },
    {
     "data": {
      "image/png": "[encoded data removed]",
      "text/plain": [
       "<Figure size 432x288 with 1 Axes>"
      ]
     },
     "metadata": {
      "needs_background": "light"
     },
     "output_type": "display_data"
    }
   ],
   "source": [
    "df.groupby('qu').agg({\"total_price\":['mean','std','count','max']}).plot(kind='bar')"
   ]
  },
  {
   "cell_type": "code",
   "execution_count": 49,
   "id": "3107ce09",
   "metadata": {},
   "outputs": [
    {
     "data": {
      "text/html": [
       "<div>\n",
       "<style scoped>\n",
       "    .dataframe tbody tr th:only-of-type {\n",
       "        vertical-align: middle;\n",
       "    }\n",
       "\n",
       "    .dataframe tbody tr th {\n",
       "        vertical-align: top;\n",
       "    }\n",
       "\n",
       "    .dataframe thead tr th {\n",
       "        text-align: left;\n",
       "    }\n",
       "\n",
       "    .dataframe thead tr:last-of-type th {\n",
       "        text-align: right;\n",
       "    }\n",
       "</style>\n",
       "<table border=\"1\" class=\"dataframe\">\n",
       "  <thead>\n",
       "    <tr>\n",
       "      <th></th>\n",
       "      <th colspan=\"4\" halign=\"left\">avg_price</th>\n",
       "    </tr>\n",
       "    <tr>\n",
       "      <th></th>\n",
       "      <th>mean</th>\n",
       "      <th>std</th>\n",
       "      <th>count</th>\n",
       "      <th>max</th>\n",
       "    </tr>\n",
       "    <tr>\n",
       "      <th>qu</th>\n",
       "      <th></th>\n",
       "      <th></th>\n",
       "      <th></th>\n",
       "      <th></th>\n",
       "    </tr>\n",
       "  </thead>\n",
       "  <tbody>\n",
       "    <tr>\n",
       "      <th>天山</th>\n",
       "      <td>12770.363208</td>\n",
       "      <td>7304.993079</td>\n",
       "      <td>212</td>\n",
       "      <td>41955</td>\n",
       "    </tr>\n",
       "    <tr>\n",
       "      <th>头屯河</th>\n",
       "      <td>5833.100000</td>\n",
       "      <td>1291.606600</td>\n",
       "      <td>30</td>\n",
       "      <td>12223</td>\n",
       "    </tr>\n",
       "    <tr>\n",
       "      <th>开发区</th>\n",
       "      <td>8732.046875</td>\n",
       "      <td>2400.300300</td>\n",
       "      <td>192</td>\n",
       "      <td>15421</td>\n",
       "    </tr>\n",
       "    <tr>\n",
       "      <th>新市</th>\n",
       "      <td>9030.940546</td>\n",
       "      <td>2805.676649</td>\n",
       "      <td>1026</td>\n",
       "      <td>20625</td>\n",
       "    </tr>\n",
       "    <tr>\n",
       "      <th>水磨沟</th>\n",
       "      <td>7610.737439</td>\n",
       "      <td>1582.751630</td>\n",
       "      <td>617</td>\n",
       "      <td>13889</td>\n",
       "    </tr>\n",
       "    <tr>\n",
       "      <th>沙依巴克</th>\n",
       "      <td>7761.427621</td>\n",
       "      <td>1464.167439</td>\n",
       "      <td>601</td>\n",
       "      <td>12531</td>\n",
       "    </tr>\n",
       "    <tr>\n",
       "      <th>米东</th>\n",
       "      <td>5698.133540</td>\n",
       "      <td>635.141129</td>\n",
       "      <td>322</td>\n",
       "      <td>9579</td>\n",
       "    </tr>\n",
       "  </tbody>\n",
       "</table>\n",
       "</div>"
      ],
      "text/plain": [
       "         avg_price                          \n",
       "              mean          std count    max\n",
       "qu                                          \n",
       "天山    12770.363208  7304.993079   212  41955\n",
       "头屯河    5833.100000  1291.606600    30  12223\n",
       "开发区    8732.046875  2400.300300   192  15421\n",
       "新市     9030.940546  2805.676649  1026  20625\n",
       "水磨沟    7610.737439  1582.751630   617  13889\n",
       "沙依巴克   7761.427621  1464.167439   601  12531\n",
       "米东     5698.133540   635.141129   322   9579"
      ]
     },
     "execution_count": 49,
     "metadata": {},
     "output_type": "execute_result"
    }
   ],
   "source": [
    "df.groupby('qu').agg({\"avg_price\":['mean','std','count','max']})"
   ]
  },
  {
   "cell_type": "code",
   "execution_count": 50,
   "id": "de2486c8",
   "metadata": {},
   "outputs": [
    {
     "data": {
      "text/plain": [
       "<AxesSubplot:xlabel='qu'>"
      ]
     },
     "execution_count": 50,
     "metadata": {},
     "output_type": "execute_result"
    },
    {
     "data": {
      "image/png": "[encoded data removed]",
      "text/plain": [
       "<Figure size 432x288 with 1 Axes>"
      ]
     },
     "metadata": {
      "needs_background": "light"
     },
     "output_type": "display_data"
    }
   ],
   "source": [
    "df.groupby('qu').agg({\"avg_price\":['mean','std','count','max']}).plot(kind='bar')"
   ]
  },
  {
   "cell_type": "code",
   "execution_count": null,
   "id": "bfd68a01",
   "metadata": {},
   "outputs": [],
   "source": []
  }
 ],
 "metadata": {
  "kernelspec": {
   "display_name": "Python 3 (ipykernel)",
   "language": "python",
   "name": "python3"
  },
  "language_info": {
   "codemirror_mode": {
    "name": "ipython",
    "version": 3
   },
   "file_extension": ".py",
   "mimetype": "text/x-python",
   "name": "python",
   "nbconvert_exporter": "python",
   "pygments_lexer": "ipython3",
   "version": "3.7.9"
  }
 },
 "nbformat": 4,
 "nbformat_minor": 5
}
